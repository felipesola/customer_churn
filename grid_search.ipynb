{
 "cells": [
  {
   "cell_type": "code",
   "execution_count": 1,
   "metadata": {},
   "outputs": [],
   "source": [
    "from steps.ingestion_step import ingestion_run\n",
    "from steps.split_step import split_run\n",
    "from steps.pipeline_step import pipeline_run\n",
    "from steps.model_step import model_run"
   ]
  },
  {
   "cell_type": "code",
   "execution_count": 2,
   "metadata": {},
   "outputs": [],
   "source": [
    "### This part of the analysis will proced with hyperparametrization using 'GridSearchCV' from scikit-learn\n",
    "\n",
    "# Dataset import\n",
    "dataset_var = ingestion_run()"
   ]
  },
  {
   "cell_type": "code",
   "execution_count": 3,
   "metadata": {},
   "outputs": [],
   "source": [
    "# Split data into train and test\n",
    "X_train, X_test, y_train, y_test = split_run(dataset_var)"
   ]
  },
  {
   "cell_type": "code",
   "execution_count": 4,
   "metadata": {},
   "outputs": [],
   "source": [
    "# Call the pipeline to make the due transformations\n",
    "pipeline_var = pipeline_run()"
   ]
  },
  {
   "cell_type": "code",
   "execution_count": 5,
   "metadata": {},
   "outputs": [
    {
     "name": "stdout",
     "output_type": "stream",
     "text": [
      "CPU times: total: 31.8 s\n",
      "Wall time: 31.8 s\n"
     ]
    },
    {
     "data": {
      "text/plain": [
       "{'tree__criterion': 'gini',\n",
       " 'tree__max_depth': 10,\n",
       " 'tree__min_samples_leaf': 5,\n",
       " 'tree__min_samples_split': 5,\n",
       " 'tree__random_state': 42}"
      ]
     },
     "execution_count": 5,
     "metadata": {},
     "output_type": "execute_result"
    }
   ],
   "source": [
    "# Execute 'GridSearchCV'\n",
    "\n",
    "%%time\n",
    "\n",
    "from sklearn.pipeline import Pipeline\n",
    "from sklearn.tree import DecisionTreeClassifier\n",
    "from sklearn.model_selection import GridSearchCV\n",
    "\n",
    "pipeline_gs = Pipeline(steps=[('preprocessor', pipeline_var), ('tree', DecisionTreeClassifier())])\n",
    "\n",
    "params = {'tree__criterion': ['gini', 'entropy'],\n",
    "            'tree__max_depth': [2, 3, 5, 7, 10, 20],\n",
    "            'tree__min_samples_leaf': [5, 10, 20, 30, 40, 50, 100],\n",
    "            'tree__min_samples_split': [5, 10, 20, 30, 40, 50, 100],\n",
    "            'tree__random_state': [42]}\n",
    "\n",
    "gs_dt = GridSearchCV(pipeline_gs, param_grid=params, scoring='accuracy', cv=5)\n",
    "gs_dt.fit(X_train, y_train)\n",
    "gs_dt.best_params_"
   ]
  }
 ],
 "metadata": {
  "kernelspec": {
   "display_name": "python31014",
   "language": "python",
   "name": "python3"
  },
  "language_info": {
   "codemirror_mode": {
    "name": "ipython",
    "version": 3
   },
   "file_extension": ".py",
   "mimetype": "text/x-python",
   "name": "python",
   "nbconvert_exporter": "python",
   "pygments_lexer": "ipython3",
   "version": "3.10.14"
  }
 },
 "nbformat": 4,
 "nbformat_minor": 2
}
